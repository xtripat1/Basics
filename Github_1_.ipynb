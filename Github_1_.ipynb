{
  "nbformat": 4,
  "nbformat_minor": 0,
  "metadata": {
    "colab": {
      "provenance": [],
      "collapsed_sections": []
    },
    "kernelspec": {
      "name": "python3",
      "display_name": "Python 3"
    },
    "language_info": {
      "name": "python"
    }
  },
  "cells": [
    {
      "cell_type": "markdown",
      "source": [
        "## Addition"
      ],
      "metadata": {
        "id": "X6IniwpoYhpT"
      }
    },
    {
      "cell_type": "code",
      "source": [
        "x = int(input(\"Put value of x :\"))\n",
        "y = int(input(\"Put value of y :\"))\n",
        "z =int(x + y)\n",
        "print(\"The value of z is:\",z)"
      ],
      "metadata": {
        "colab": {
          "base_uri": "https://localhost:8080/"
        },
        "id": "bfbE-JT9XZip",
        "outputId": "1e592fb7-2bfb-4a23-c2e5-a409d71db840"
      },
      "execution_count": null,
      "outputs": [
        {
          "output_type": "stream",
          "name": "stdout",
          "text": [
            "Put value of x :5\n",
            "Put value of y :2\n",
            "The value of z is: 7\n"
          ]
        }
      ]
    },
    {
      "cell_type": "markdown",
      "source": [
        "# Substraction"
      ],
      "metadata": {
        "id": "jSrmGlqlYnW_"
      }
    },
    {
      "cell_type": "code",
      "source": [
        "a= float(input(\"Put value of a : \"))\n",
        "b= float(input(\"Put value of b : \"))\n",
        "c= float(a-b)\n",
        "print(\"The value of c is :\",c)"
      ],
      "metadata": {
        "colab": {
          "base_uri": "https://localhost:8080/"
        },
        "id": "0pmWN8nVXmkk",
        "outputId": "294670be-983b-4ce2-901e-237cba8eabba"
      },
      "execution_count": null,
      "outputs": [
        {
          "output_type": "stream",
          "name": "stdout",
          "text": [
            "Put value of a : 15\n",
            "Put value of b : 7\n",
            "The value of c is : 8.0\n"
          ]
        }
      ]
    },
    {
      "cell_type": "markdown",
      "source": [
        "# Division"
      ],
      "metadata": {
        "id": "KwiXkWUTZRVC"
      }
    },
    {
      "cell_type": "code",
      "source": [
        "p= float(input(\"Put value of p : \"))\n",
        "q= float(input(\"Put value of q : \"))\n",
        "r= int(p/q)\n",
        "print(\"The value of r is :\",r)\n"
      ],
      "metadata": {
        "colab": {
          "base_uri": "https://localhost:8080/"
        },
        "id": "kHsVik2IZKM3",
        "outputId": "4f098ca2-e5f6-4640-b890-6c351b4a0f44"
      },
      "execution_count": null,
      "outputs": [
        {
          "output_type": "stream",
          "name": "stdout",
          "text": [
            "Put value of p : 12.68\n",
            "Put value of q : 2.98\n",
            "The value of r is : 4\n"
          ]
        }
      ]
    },
    {
      "cell_type": "markdown",
      "source": [
        "# Multiplication"
      ],
      "metadata": {
        "id": "kSmbKOygZ9oN"
      }
    },
    {
      "cell_type": "code",
      "source": [
        "m = float(input(\"Put value of m : \"))\n",
        "n = float(input(\"Put value of n : \"))\n",
        "o = int(m*n)\n",
        "print(\"The value of o is :\",o)"
      ],
      "metadata": {
        "colab": {
          "base_uri": "https://localhost:8080/"
        },
        "id": "9bTuOwYiZpIQ",
        "outputId": "bd3e5276-daa9-4e5a-d1ce-ff7851fedeab"
      },
      "execution_count": null,
      "outputs": [
        {
          "output_type": "stream",
          "name": "stdout",
          "text": [
            "Put value of m : 10\n",
            "Put value of n : 20\n",
            "The value of o is : 200\n"
          ]
        }
      ]
    },
    {
      "cell_type": "markdown",
      "source": [
        "# Power"
      ],
      "metadata": {
        "id": "LdzDfJe0bI8m"
      }
    },
    {
      "cell_type": "code",
      "source": [
        "l = int(input(\"Put value of l : \"))\n",
        "k = int(input(\"Put value of k : \"))\n",
        "j = int(pow(l,k))\n",
        "print(\"The value of j is :\",j)"
      ],
      "metadata": {
        "colab": {
          "base_uri": "https://localhost:8080/"
        },
        "id": "eACWZRXrbIbw",
        "outputId": "891eebd7-8b1f-49af-af85-8734470d60c4"
      },
      "execution_count": null,
      "outputs": [
        {
          "output_type": "stream",
          "name": "stdout",
          "text": [
            "Put value of l : 3\n",
            "Put value of k : 2\n",
            "The value of j is : 9\n"
          ]
        }
      ]
    },
    {
      "cell_type": "code",
      "source": [],
      "metadata": {
        "id": "8jJFUM2fbm4J"
      },
      "execution_count": null,
      "outputs": []
    }
  ]
}